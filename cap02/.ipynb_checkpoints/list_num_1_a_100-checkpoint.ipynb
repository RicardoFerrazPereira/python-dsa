{
 "cells": [
  {
   "cell_type": "markdown",
   "id": "04c8fe3b-2308-427b-a1a8-323d67190990",
   "metadata": {},
   "source": [
    "Gere código Python que crie uma lista com os números entre 1 e 100 e então imprima os números pares, mas somente se o número for divisível por 4."
   ]
  },
  {
   "cell_type": "code",
   "execution_count": 13,
   "id": "67b83cad-7058-4c15-b7cc-3b7631333f99",
   "metadata": {},
   "outputs": [
    {
     "name": "stdout",
     "output_type": "stream",
     "text": [
      "4\n",
      "8\n",
      "12\n",
      "16\n",
      "20\n",
      "24\n",
      "28\n",
      "32\n",
      "36\n",
      "40\n",
      "44\n",
      "48\n",
      "52\n",
      "56\n",
      "60\n",
      "64\n",
      "68\n",
      "72\n",
      "76\n",
      "80\n",
      "84\n",
      "88\n",
      "92\n",
      "96\n",
      "100\n"
     ]
    }
   ],
   "source": [
    "# Cria uma lista com os números entre 1 e 100\n",
    "numeros = list(range(1, 101))\n",
    "\n",
    "# Filtrar os números pares que são divisíveis por 4\n",
    "for numero in numeros:\n",
    "    if numero % 2 == 0 and numero % 4 == 0:\n",
    "     print(numero)\n",
    "       \n",
    "\n"
   ]
  },
  {
   "cell_type": "markdown",
   "id": "3e964347-5eca-4112-bd25-b775489fc8f4",
   "metadata": {},
   "source": [
    "Gere código Python que crie uma lista com os números entre 1 e 100 e então imprima os números pares, mas somente se o número for divisível por 4. Usando LIST COMPREHENSION"
   ]
  },
  {
   "cell_type": "code",
   "execution_count": 14,
   "id": "3fc1846a-4d88-4e91-a34e-5dab94c3b0fd",
   "metadata": {},
   "outputs": [
    {
     "name": "stdout",
     "output_type": "stream",
     "text": [
      "Números pares divisíveis por 4 entre 1 e 100:\n",
      "[4, 8, 12, 16, 20, 24, 28, 32, 36, 40, 44, 48, 52, 56, 60, 64, 68, 72, 76, 80, 84, 88, 92, 96, 100]\n"
     ]
    }
   ],
   "source": [
    "# Criar uma lista com números de 1 a 100\n",
    "numeros = list(range(1, 101))\n",
    "\n",
    "# Filtrar os números pares que são divisíveis por 4\n",
    "numeros_divisiveis_por_4 = [num for num in numeros if num % 2 == 0 and num % 4 == 0] \n",
    "\n",
    "# Imprimir os números filtrados\n",
    "print(numeros_divisiveis_por_4)"
   ]
  },
  {
   "cell_type": "code",
   "execution_count": 15,
   "id": "287f7c8c-00d6-4bfa-af9f-ba44bf5e0090",
   "metadata": {},
   "outputs": [
    {
     "data": {
      "text/plain": [
       "list"
      ]
     },
     "execution_count": 15,
     "metadata": {},
     "output_type": "execute_result"
    }
   ],
   "source": [
    "type(numeros_divisiveis_por_4)"
   ]
  }
 ],
 "metadata": {
  "kernelspec": {
   "display_name": "Python 3 (ipykernel)",
   "language": "python",
   "name": "python3"
  },
  "language_info": {
   "codemirror_mode": {
    "name": "ipython",
    "version": 3
   },
   "file_extension": ".py",
   "mimetype": "text/x-python",
   "name": "python",
   "nbconvert_exporter": "python",
   "pygments_lexer": "ipython3",
   "version": "3.11.7"
  }
 },
 "nbformat": 4,
 "nbformat_minor": 5
}
