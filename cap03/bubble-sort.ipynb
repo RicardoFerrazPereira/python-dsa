{
 "cells": [
  {
   "cell_type": "markdown",
   "id": "1ab6b6a4-931e-49e8-b549-76fa711b351c",
   "metadata": {},
   "source": [
    "Pseudocódigo 3 - Algoritmo Bubble Sort\n",
    "\n",
    "Bubble Sort é um algoritmo de ordenação simples que funciona comparando cada elemento com o próximo, \n",
    "e trocando-os de lugar se eles estiverem em ordem incorreta. O algoritmo repete esse processo várias vezes, \n",
    "até que todos os elementos estejam ordenados. A cada passagem, o maior elemento \"flutua\" para o final do array, \n",
    "como uma bolha, dando origem ao nome do algoritmo."
   ]
  },
  {
   "cell_type": "markdown",
   "id": "551cbc7b-6a68-4950-bb67-b04a69ef8720",
   "metadata": {},
   "source": [
    "Inicie\n",
    "\n",
    "    Para cada elemento i no array de tamanho n\n",
    "        Para cada elemento j no array de tamanho n - 1\n",
    "            Se elemento i for maior que elemento j\n",
    "                Troque os elementos i e j\n",
    "    Exiba o array ordenado\n",
    "Fim"
   ]
  },
  {
   "cell_type": "code",
   "execution_count": 2,
   "id": "0d8d9fa1-5a7c-4a78-b2dc-1711ccd7bba5",
   "metadata": {},
   "outputs": [],
   "source": [
    "lista = [6,7,8,3,10,19,4,1,0,61,30,16,17,82,29,34,43,21,11,39,56,67,12]"
   ]
  },
  {
   "cell_type": "code",
   "execution_count": 5,
   "id": "f511d5a5-1f59-4fc9-83fc-4e73f2eaf512",
   "metadata": {},
   "outputs": [],
   "source": [
    "def ordenar(arr):\n",
    "    # Função len pega o tamanho do array\n",
    "    n = len(arr)\n",
    "\n",
    "    #Para cada elemento i do array\n",
    "    for i in range(n):\n",
    "        #Para cada elemento j do array\n",
    "        for j in range(n-i-1):\n",
    "            # Se o elemento i for maiorque elemento j\n",
    "            if arr[j] > arr[j+1]:\n",
    "                # Troque os elementos i e j\n",
    "                arr[j], arr[j+1] = arr[j+1], arr[j]\n",
    "    return arr"
   ]
  },
  {
   "cell_type": "code",
   "execution_count": 6,
   "id": "ae28715d-bb17-4f80-97c2-251628fbbe98",
   "metadata": {},
   "outputs": [
    {
     "name": "stdout",
     "output_type": "stream",
     "text": [
      "[0, 1, 3, 4, 6, 7, 8, 10, 11, 12, 16, 17, 19, 21, 29, 30, 34, 39, 43, 56, 61, 67, 82]\n"
     ]
    }
   ],
   "source": [
    "print(ordenar(lista))"
   ]
  }
 ],
 "metadata": {
  "kernelspec": {
   "display_name": "Python 3 (ipykernel)",
   "language": "python",
   "name": "python3"
  },
  "language_info": {
   "codemirror_mode": {
    "name": "ipython",
    "version": 3
   },
   "file_extension": ".py",
   "mimetype": "text/x-python",
   "name": "python",
   "nbconvert_exporter": "python",
   "pygments_lexer": "ipython3",
   "version": "3.11.7"
  }
 },
 "nbformat": 4,
 "nbformat_minor": 5
}
