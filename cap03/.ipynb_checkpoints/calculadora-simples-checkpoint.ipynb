{
 "cells": [
  {
   "cell_type": "markdown",
   "id": "de516d22-24e1-43c8-be9c-6f8470a14b62",
   "metadata": {},
   "source": [
    "CALCULADORA SIMPLES"
   ]
  },
  {
   "cell_type": "markdown",
   "id": "79afbbe2-81b1-4e94-b2fd-f94cab009872",
   "metadata": {},
   "source": [
    "Inicio\n",
    "    Exiba \"Bem vindo à calculadora\"\n",
    "    Peça para o usuário digitar o primeiro número\n",
    "    Armazene o primeiro número em uma variável\n",
    "    Peça para o usuário digitar o segundo número\n",
    "    Armazene o segundo número em uma variável\n",
    "    Peça para o usuário digitar uma operação (+, -, *, /)\n",
    "    Armazene a operação em uma variável\n",
    "    Utilize a operação selecionada e os números armazenados para realizar o cálculo\n",
    "    Exiba o resultado \n",
    "Fim\n",
    "\n",
    "    "
   ]
  },
  {
   "cell_type": "code",
   "execution_count": 1,
   "id": "c492054b-302d-45fd-a310-40eff29c3429",
   "metadata": {},
   "outputs": [
    {
     "name": "stdout",
     "output_type": "stream",
     "text": [
      "Bem vindo à calculadora\n"
     ]
    }
   ],
   "source": [
    "print(\"Bem vindo à calculadora\")"
   ]
  },
  {
   "cell_type": "code",
   "execution_count": 3,
   "id": "5ee04ca3-a86a-4e82-9f9e-86883d0e0341",
   "metadata": {},
   "outputs": [
    {
     "name": "stdin",
     "output_type": "stream",
     "text": [
      "Digite o primeiro número:  5\n"
     ]
    }
   ],
   "source": [
    "num1 = float(input(\"Digite o primeiro número: \"))"
   ]
  },
  {
   "cell_type": "code",
   "execution_count": 4,
   "id": "e992a6cf-e1be-4999-87d9-b92bf580e070",
   "metadata": {},
   "outputs": [
    {
     "name": "stdin",
     "output_type": "stream",
     "text": [
      "Digite o segundo número:  8\n"
     ]
    }
   ],
   "source": [
    "num2 = float(input(\"Digite o segundo número: \"))"
   ]
  },
  {
   "cell_type": "code",
   "execution_count": 5,
   "id": "b26b2d2d-8044-4509-a72d-6bfd6a679ed0",
   "metadata": {},
   "outputs": [
    {
     "name": "stdin",
     "output_type": "stream",
     "text": [
      "escolha a operação:  +\n"
     ]
    }
   ],
   "source": [
    "operacao = input(\"escolha a operação: \")"
   ]
  },
  {
   "cell_type": "code",
   "execution_count": 6,
   "id": "a10ff884-11f0-4e77-bcab-9b0d73193b75",
   "metadata": {},
   "outputs": [
    {
     "name": "stdout",
     "output_type": "stream",
     "text": [
      "O resultado é:  13.0\n"
     ]
    }
   ],
   "source": [
    "if operacao == \"+\":\n",
    "    total = num1 + num2\n",
    "    print(\"O resultado é: \", total)\n",
    "elif operacao == \"-\":\n",
    "    total = num1 - num2\n",
    "    print(\"O resultado é: \", total)\n",
    "elif operacao == \"*\":\n",
    "    total = num1 * num2\n",
    "    print(\"O resultado é: \", total)\n",
    "elif operacao == \"/\":\n",
    "    total = num1 / num2\n",
    "    print(\"O resultado é: \", total)\n",
    "else:\n",
    "    print(\"Operação inválida\")"
   ]
  }
 ],
 "metadata": {
  "kernelspec": {
   "display_name": "Python 3 (ipykernel)",
   "language": "python",
   "name": "python3"
  },
  "language_info": {
   "codemirror_mode": {
    "name": "ipython",
    "version": 3
   },
   "file_extension": ".py",
   "mimetype": "text/x-python",
   "name": "python",
   "nbconvert_exporter": "python",
   "pygments_lexer": "ipython3",
   "version": "3.11.7"
  }
 },
 "nbformat": 4,
 "nbformat_minor": 5
}
